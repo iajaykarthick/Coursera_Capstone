{
 "cells": [
  {
   "cell_type": "markdown",
   "metadata": {},
   "source": [
    "# PART A"
   ]
  },
  {
   "cell_type": "markdown",
   "metadata": {},
   "source": [
    "## Importing required libraries/packages"
   ]
  },
  {
   "cell_type": "code",
   "execution_count": 37,
   "metadata": {},
   "outputs": [],
   "source": [
    "from bs4 import BeautifulSoup\n",
    "import pandas as pd\n",
    "import requests"
   ]
  },
  {
   "cell_type": "markdown",
   "metadata": {},
   "source": [
    "## Initializing required variables and web scarpping"
   ]
  },
  {
   "cell_type": "code",
   "execution_count": 38,
   "metadata": {},
   "outputs": [],
   "source": [
    "wiki_data = BeautifulSoup(requests.get(\"https://en.wikipedia.org/wiki/List_of_postal_codes_of_Canada:_M\").text, 'lxml')\n",
    "column_names = ['Postalcode','Borough','Neighborhood']\n",
    "toronto = pd.DataFrame(columns = column_names)\n",
    "content = wiki_data.find('div', class_='mw-parser-output')\n",
    "postalcode = 0\n",
    "borough = 0\n",
    "neighborhood = 0"
   ]
  },
  {
   "cell_type": "markdown",
   "metadata": {},
   "source": [
    "## Extracting required information and transforming it into a dataframe"
   ]
  },
  {
   "cell_type": "code",
   "execution_count": 39,
   "metadata": {},
   "outputs": [],
   "source": [
    "for tr in content.table.tbody.find_all('tr'):\n",
    "    i = 0\n",
    "    for td in tr.find_all('td'):\n",
    "        if i == 0:\n",
    "            postalcode = td.text.strip('\\n')\n",
    "            i = i + 1\n",
    "        elif i == 1:\n",
    "            borough = td.text.strip('\\n')\n",
    "            i = i + 1\n",
    "        elif i == 2: \n",
    "            neighborhood = td.text.strip('\\n').replace(']','')\n",
    "    toronto = toronto.append({'Postalcode': postalcode,'Borough': borough,'Neighborhood': neighborhood},ignore_index=True)"
   ]
  },
  {
   "cell_type": "markdown",
   "metadata": {},
   "source": [
    "## Cleaning \n",
    "### Ignoring cells with a borough that is Not assigned and If a cell has a borough but a Not assigned  neighborhood, then the neighborhood will be the same as the borough."
   ]
  },
  {
   "cell_type": "code",
   "execution_count": 40,
   "metadata": {},
   "outputs": [],
   "source": [
    "toronto = toronto[toronto.Borough!='Not assigned']\n",
    "toronto = toronto[toronto.Borough!= 0]\n",
    "toronto.reset_index(drop = True, inplace = True)\n",
    "i = 0\n",
    "for i in range(0,toronto.shape[0]):\n",
    "    if toronto.iloc[i][2] == 'Not assigned':\n",
    "        toronto.iloc[i][2] = toronto.iloc[i][1]\n",
    "        i = i+1"
   ]
  },
  {
   "cell_type": "code",
   "execution_count": 41,
   "metadata": {},
   "outputs": [
    {
     "data": {
      "text/html": [
       "<div>\n",
       "<style scoped>\n",
       "    .dataframe tbody tr th:only-of-type {\n",
       "        vertical-align: middle;\n",
       "    }\n",
       "\n",
       "    .dataframe tbody tr th {\n",
       "        vertical-align: top;\n",
       "    }\n",
       "\n",
       "    .dataframe thead th {\n",
       "        text-align: right;\n",
       "    }\n",
       "</style>\n",
       "<table border=\"1\" class=\"dataframe\">\n",
       "  <thead>\n",
       "    <tr style=\"text-align: right;\">\n",
       "      <th></th>\n",
       "      <th>Postalcode</th>\n",
       "      <th>Borough</th>\n",
       "      <th>Neighborhood</th>\n",
       "    </tr>\n",
       "  </thead>\n",
       "  <tbody>\n",
       "    <tr>\n",
       "      <th>0</th>\n",
       "      <td>M3A</td>\n",
       "      <td>North York</td>\n",
       "      <td>Parkwoods</td>\n",
       "    </tr>\n",
       "    <tr>\n",
       "      <th>1</th>\n",
       "      <td>M4A</td>\n",
       "      <td>North York</td>\n",
       "      <td>Victoria Village</td>\n",
       "    </tr>\n",
       "    <tr>\n",
       "      <th>2</th>\n",
       "      <td>M5A</td>\n",
       "      <td>Downtown Toronto</td>\n",
       "      <td>Regent Park, Harbourfront</td>\n",
       "    </tr>\n",
       "    <tr>\n",
       "      <th>3</th>\n",
       "      <td>M6A</td>\n",
       "      <td>North York</td>\n",
       "      <td>Lawrence Manor, Lawrence Heights</td>\n",
       "    </tr>\n",
       "    <tr>\n",
       "      <th>4</th>\n",
       "      <td>M7A</td>\n",
       "      <td>Downtown Toronto</td>\n",
       "      <td>Queen's Park, Ontario Provincial Government</td>\n",
       "    </tr>\n",
       "    <tr>\n",
       "      <th>...</th>\n",
       "      <td>...</td>\n",
       "      <td>...</td>\n",
       "      <td>...</td>\n",
       "    </tr>\n",
       "    <tr>\n",
       "      <th>98</th>\n",
       "      <td>M8X</td>\n",
       "      <td>Etobicoke</td>\n",
       "      <td>The Kingsway, Montgomery Road, Old Mill North</td>\n",
       "    </tr>\n",
       "    <tr>\n",
       "      <th>99</th>\n",
       "      <td>M4Y</td>\n",
       "      <td>Downtown Toronto</td>\n",
       "      <td>Church and Wellesley</td>\n",
       "    </tr>\n",
       "    <tr>\n",
       "      <th>100</th>\n",
       "      <td>M7Y</td>\n",
       "      <td>East Toronto</td>\n",
       "      <td>Business reply mail Processing Centre, South C...</td>\n",
       "    </tr>\n",
       "    <tr>\n",
       "      <th>101</th>\n",
       "      <td>M8Y</td>\n",
       "      <td>Etobicoke</td>\n",
       "      <td>Old Mill South, King's Mill Park, Sunnylea, Hu...</td>\n",
       "    </tr>\n",
       "    <tr>\n",
       "      <th>102</th>\n",
       "      <td>M8Z</td>\n",
       "      <td>Etobicoke</td>\n",
       "      <td>Mimico NW, The Queensway West, South of Bloor,...</td>\n",
       "    </tr>\n",
       "  </tbody>\n",
       "</table>\n",
       "<p>103 rows × 3 columns</p>\n",
       "</div>"
      ],
      "text/plain": [
       "    Postalcode           Borough  \\\n",
       "0          M3A        North York   \n",
       "1          M4A        North York   \n",
       "2          M5A  Downtown Toronto   \n",
       "3          M6A        North York   \n",
       "4          M7A  Downtown Toronto   \n",
       "..         ...               ...   \n",
       "98         M8X         Etobicoke   \n",
       "99         M4Y  Downtown Toronto   \n",
       "100        M7Y      East Toronto   \n",
       "101        M8Y         Etobicoke   \n",
       "102        M8Z         Etobicoke   \n",
       "\n",
       "                                          Neighborhood  \n",
       "0                                            Parkwoods  \n",
       "1                                     Victoria Village  \n",
       "2                            Regent Park, Harbourfront  \n",
       "3                     Lawrence Manor, Lawrence Heights  \n",
       "4          Queen's Park, Ontario Provincial Government  \n",
       "..                                                 ...  \n",
       "98       The Kingsway, Montgomery Road, Old Mill North  \n",
       "99                                Church and Wellesley  \n",
       "100  Business reply mail Processing Centre, South C...  \n",
       "101  Old Mill South, King's Mill Park, Sunnylea, Hu...  \n",
       "102  Mimico NW, The Queensway West, South of Bloor,...  \n",
       "\n",
       "[103 rows x 3 columns]"
      ]
     },
     "execution_count": 41,
     "metadata": {},
     "output_type": "execute_result"
    }
   ],
   "source": [
    "toronto"
   ]
  },
  {
   "cell_type": "markdown",
   "metadata": {},
   "source": [
    "## More than one neighborhood can exist in one postal code area. These rows will be combined into one row with the neighborhoods separated with a comma"
   ]
  },
  {
   "cell_type": "code",
   "execution_count": 31,
   "metadata": {},
   "outputs": [
    {
     "data": {
      "text/html": [
       "<div>\n",
       "<style scoped>\n",
       "    .dataframe tbody tr th:only-of-type {\n",
       "        vertical-align: middle;\n",
       "    }\n",
       "\n",
       "    .dataframe tbody tr th {\n",
       "        vertical-align: top;\n",
       "    }\n",
       "\n",
       "    .dataframe thead th {\n",
       "        text-align: right;\n",
       "    }\n",
       "</style>\n",
       "<table border=\"1\" class=\"dataframe\">\n",
       "  <thead>\n",
       "    <tr style=\"text-align: right;\">\n",
       "      <th></th>\n",
       "      <th>Postalcode</th>\n",
       "      <th>Borough</th>\n",
       "      <th>Neighborhood</th>\n",
       "    </tr>\n",
       "  </thead>\n",
       "  <tbody>\n",
       "    <tr>\n",
       "      <th>0</th>\n",
       "      <td>M1B</td>\n",
       "      <td>Scarborough</td>\n",
       "      <td>Malvern, Rouge</td>\n",
       "    </tr>\n",
       "    <tr>\n",
       "      <th>1</th>\n",
       "      <td>M1C</td>\n",
       "      <td>Scarborough</td>\n",
       "      <td>Rouge Hill, Port Union, Highland Creek</td>\n",
       "    </tr>\n",
       "    <tr>\n",
       "      <th>2</th>\n",
       "      <td>M1E</td>\n",
       "      <td>Scarborough</td>\n",
       "      <td>Guildwood, Morningside, West Hill</td>\n",
       "    </tr>\n",
       "    <tr>\n",
       "      <th>3</th>\n",
       "      <td>M1G</td>\n",
       "      <td>Scarborough</td>\n",
       "      <td>Woburn</td>\n",
       "    </tr>\n",
       "    <tr>\n",
       "      <th>4</th>\n",
       "      <td>M1H</td>\n",
       "      <td>Scarborough</td>\n",
       "      <td>Cedarbrae</td>\n",
       "    </tr>\n",
       "    <tr>\n",
       "      <th>...</th>\n",
       "      <td>...</td>\n",
       "      <td>...</td>\n",
       "      <td>...</td>\n",
       "    </tr>\n",
       "    <tr>\n",
       "      <th>98</th>\n",
       "      <td>M9N</td>\n",
       "      <td>York</td>\n",
       "      <td>Weston</td>\n",
       "    </tr>\n",
       "    <tr>\n",
       "      <th>99</th>\n",
       "      <td>M9P</td>\n",
       "      <td>Etobicoke</td>\n",
       "      <td>Westmount</td>\n",
       "    </tr>\n",
       "    <tr>\n",
       "      <th>100</th>\n",
       "      <td>M9R</td>\n",
       "      <td>Etobicoke</td>\n",
       "      <td>Kingsview Village, St. Phillips, Martin Grove ...</td>\n",
       "    </tr>\n",
       "    <tr>\n",
       "      <th>101</th>\n",
       "      <td>M9V</td>\n",
       "      <td>Etobicoke</td>\n",
       "      <td>South Steeles, Silverstone, Humbergate, Jamest...</td>\n",
       "    </tr>\n",
       "    <tr>\n",
       "      <th>102</th>\n",
       "      <td>M9W</td>\n",
       "      <td>Etobicoke</td>\n",
       "      <td>Northwest, West Humber - Clairville</td>\n",
       "    </tr>\n",
       "  </tbody>\n",
       "</table>\n",
       "<p>103 rows × 3 columns</p>\n",
       "</div>"
      ],
      "text/plain": [
       "    Postalcode      Borough                                       Neighborhood\n",
       "0          M1B  Scarborough                                     Malvern, Rouge\n",
       "1          M1C  Scarborough             Rouge Hill, Port Union, Highland Creek\n",
       "2          M1E  Scarborough                  Guildwood, Morningside, West Hill\n",
       "3          M1G  Scarborough                                             Woburn\n",
       "4          M1H  Scarborough                                          Cedarbrae\n",
       "..         ...          ...                                                ...\n",
       "98         M9N         York                                             Weston\n",
       "99         M9P    Etobicoke                                          Westmount\n",
       "100        M9R    Etobicoke  Kingsview Village, St. Phillips, Martin Grove ...\n",
       "101        M9V    Etobicoke  South Steeles, Silverstone, Humbergate, Jamest...\n",
       "102        M9W    Etobicoke                Northwest, West Humber - Clairville\n",
       "\n",
       "[103 rows x 3 columns]"
      ]
     },
     "execution_count": 31,
     "metadata": {},
     "output_type": "execute_result"
    }
   ],
   "source": [
    "toronto_df = toronto.groupby(['Postalcode','Borough'])['Neighborhood'].apply(', '.join).reset_index()\n",
    "toronto_df"
   ]
  },
  {
   "cell_type": "markdown",
   "metadata": {},
   "source": [
    "## Summary of dataframe"
   ]
  },
  {
   "cell_type": "code",
   "execution_count": 32,
   "metadata": {},
   "outputs": [
    {
     "data": {
      "text/html": [
       "<div>\n",
       "<style scoped>\n",
       "    .dataframe tbody tr th:only-of-type {\n",
       "        vertical-align: middle;\n",
       "    }\n",
       "\n",
       "    .dataframe tbody tr th {\n",
       "        vertical-align: top;\n",
       "    }\n",
       "\n",
       "    .dataframe thead th {\n",
       "        text-align: right;\n",
       "    }\n",
       "</style>\n",
       "<table border=\"1\" class=\"dataframe\">\n",
       "  <thead>\n",
       "    <tr style=\"text-align: right;\">\n",
       "      <th></th>\n",
       "      <th>Postalcode</th>\n",
       "      <th>Borough</th>\n",
       "      <th>Neighborhood</th>\n",
       "    </tr>\n",
       "  </thead>\n",
       "  <tbody>\n",
       "    <tr>\n",
       "      <th>count</th>\n",
       "      <td>103</td>\n",
       "      <td>103</td>\n",
       "      <td>103</td>\n",
       "    </tr>\n",
       "    <tr>\n",
       "      <th>unique</th>\n",
       "      <td>103</td>\n",
       "      <td>10</td>\n",
       "      <td>99</td>\n",
       "    </tr>\n",
       "    <tr>\n",
       "      <th>top</th>\n",
       "      <td>M4W</td>\n",
       "      <td>North York</td>\n",
       "      <td>Downsview</td>\n",
       "    </tr>\n",
       "    <tr>\n",
       "      <th>freq</th>\n",
       "      <td>1</td>\n",
       "      <td>24</td>\n",
       "      <td>4</td>\n",
       "    </tr>\n",
       "  </tbody>\n",
       "</table>\n",
       "</div>"
      ],
      "text/plain": [
       "       Postalcode     Borough Neighborhood\n",
       "count         103         103          103\n",
       "unique        103          10           99\n",
       "top           M4W  North York    Downsview\n",
       "freq            1          24            4"
      ]
     },
     "execution_count": 32,
     "metadata": {},
     "output_type": "execute_result"
    }
   ],
   "source": [
    "toronto_df.describe()"
   ]
  },
  {
   "cell_type": "markdown",
   "metadata": {},
   "source": [
    "## Dropping NA"
   ]
  },
  {
   "cell_type": "code",
   "execution_count": 36,
   "metadata": {},
   "outputs": [
    {
     "data": {
      "text/html": [
       "<div>\n",
       "<style scoped>\n",
       "    .dataframe tbody tr th:only-of-type {\n",
       "        vertical-align: middle;\n",
       "    }\n",
       "\n",
       "    .dataframe tbody tr th {\n",
       "        vertical-align: top;\n",
       "    }\n",
       "\n",
       "    .dataframe thead th {\n",
       "        text-align: right;\n",
       "    }\n",
       "</style>\n",
       "<table border=\"1\" class=\"dataframe\">\n",
       "  <thead>\n",
       "    <tr style=\"text-align: right;\">\n",
       "      <th></th>\n",
       "      <th>Postalcode</th>\n",
       "      <th>Borough</th>\n",
       "      <th>Neighborhood</th>\n",
       "    </tr>\n",
       "  </thead>\n",
       "  <tbody>\n",
       "    <tr>\n",
       "      <th>0</th>\n",
       "      <td>M1B</td>\n",
       "      <td>Scarborough</td>\n",
       "      <td>Malvern, Rouge</td>\n",
       "    </tr>\n",
       "    <tr>\n",
       "      <th>1</th>\n",
       "      <td>M1C</td>\n",
       "      <td>Scarborough</td>\n",
       "      <td>Rouge Hill, Port Union, Highland Creek</td>\n",
       "    </tr>\n",
       "    <tr>\n",
       "      <th>2</th>\n",
       "      <td>M1E</td>\n",
       "      <td>Scarborough</td>\n",
       "      <td>Guildwood, Morningside, West Hill</td>\n",
       "    </tr>\n",
       "    <tr>\n",
       "      <th>3</th>\n",
       "      <td>M1G</td>\n",
       "      <td>Scarborough</td>\n",
       "      <td>Woburn</td>\n",
       "    </tr>\n",
       "    <tr>\n",
       "      <th>4</th>\n",
       "      <td>M1H</td>\n",
       "      <td>Scarborough</td>\n",
       "      <td>Cedarbrae</td>\n",
       "    </tr>\n",
       "    <tr>\n",
       "      <th>...</th>\n",
       "      <td>...</td>\n",
       "      <td>...</td>\n",
       "      <td>...</td>\n",
       "    </tr>\n",
       "    <tr>\n",
       "      <th>98</th>\n",
       "      <td>M9N</td>\n",
       "      <td>York</td>\n",
       "      <td>Weston</td>\n",
       "    </tr>\n",
       "    <tr>\n",
       "      <th>99</th>\n",
       "      <td>M9P</td>\n",
       "      <td>Etobicoke</td>\n",
       "      <td>Westmount</td>\n",
       "    </tr>\n",
       "    <tr>\n",
       "      <th>100</th>\n",
       "      <td>M9R</td>\n",
       "      <td>Etobicoke</td>\n",
       "      <td>Kingsview Village, St. Phillips, Martin Grove ...</td>\n",
       "    </tr>\n",
       "    <tr>\n",
       "      <th>101</th>\n",
       "      <td>M9V</td>\n",
       "      <td>Etobicoke</td>\n",
       "      <td>South Steeles, Silverstone, Humbergate, Jamest...</td>\n",
       "    </tr>\n",
       "    <tr>\n",
       "      <th>102</th>\n",
       "      <td>M9W</td>\n",
       "      <td>Etobicoke</td>\n",
       "      <td>Northwest, West Humber - Clairville</td>\n",
       "    </tr>\n",
       "  </tbody>\n",
       "</table>\n",
       "<p>103 rows × 3 columns</p>\n",
       "</div>"
      ],
      "text/plain": [
       "    Postalcode      Borough                                       Neighborhood\n",
       "0          M1B  Scarborough                                     Malvern, Rouge\n",
       "1          M1C  Scarborough             Rouge Hill, Port Union, Highland Creek\n",
       "2          M1E  Scarborough                  Guildwood, Morningside, West Hill\n",
       "3          M1G  Scarborough                                             Woburn\n",
       "4          M1H  Scarborough                                          Cedarbrae\n",
       "..         ...          ...                                                ...\n",
       "98         M9N         York                                             Weston\n",
       "99         M9P    Etobicoke                                          Westmount\n",
       "100        M9R    Etobicoke  Kingsview Village, St. Phillips, Martin Grove ...\n",
       "101        M9V    Etobicoke  South Steeles, Silverstone, Humbergate, Jamest...\n",
       "102        M9W    Etobicoke                Northwest, West Humber - Clairville\n",
       "\n",
       "[103 rows x 3 columns]"
      ]
     },
     "execution_count": 36,
     "metadata": {},
     "output_type": "execute_result"
    }
   ],
   "source": [
    "toronto_df = toronto_df.dropna()\n",
    "toronto_df"
   ]
  },
  {
   "cell_type": "markdown",
   "metadata": {},
   "source": [
    "## Shape of the dataframe"
   ]
  },
  {
   "cell_type": "code",
   "execution_count": 44,
   "metadata": {},
   "outputs": [
    {
     "data": {
      "text/plain": [
       "(103, 3)"
      ]
     },
     "execution_count": 44,
     "metadata": {},
     "output_type": "execute_result"
    }
   ],
   "source": [
    "toronto_df.shape"
   ]
  },
  {
   "cell_type": "markdown",
   "metadata": {},
   "source": [
    "# PART B"
   ]
  },
  {
   "cell_type": "code",
   "execution_count": 46,
   "metadata": {},
   "outputs": [
    {
     "name": "stdout",
     "output_type": "stream",
     "text": [
      "Collecting geocoder\n",
      "  Downloading geocoder-1.38.1-py2.py3-none-any.whl (98 kB)\n",
      "Requirement already satisfied: click in c:\\users\\ajay483\\anaconda3\\lib\\site-packages (from geocoder) (7.1.2)\n",
      "Requirement already satisfied: six in c:\\users\\ajay483\\anaconda3\\lib\\site-packages (from geocoder) (1.15.0)\n",
      "Requirement already satisfied: future in c:\\users\\ajay483\\anaconda3\\lib\\site-packages (from geocoder) (0.18.2)\n",
      "Requirement already satisfied: requests in c:\\users\\ajay483\\anaconda3\\lib\\site-packages (from geocoder) (2.25.0)\n",
      "Collecting ratelim\n",
      "  Downloading ratelim-0.1.6-py2.py3-none-any.whl (4.0 kB)\n",
      "Requirement already satisfied: decorator in c:\\users\\ajay483\\anaconda3\\lib\\site-packages (from ratelim->geocoder) (4.4.2)\n",
      "Requirement already satisfied: urllib3<1.27,>=1.21.1 in c:\\users\\ajay483\\anaconda3\\lib\\site-packages (from requests->geocoder) (1.25.11)\n",
      "Requirement already satisfied: idna<3,>=2.5 in c:\\users\\ajay483\\anaconda3\\lib\\site-packages (from requests->geocoder) (2.10)\n",
      "Requirement already satisfied: certifi>=2017.4.17 in c:\\users\\ajay483\\anaconda3\\lib\\site-packages (from requests->geocoder) (2020.12.5)\n",
      "Requirement already satisfied: chardet<4,>=3.0.2 in c:\\users\\ajay483\\anaconda3\\lib\\site-packages (from requests->geocoder) (3.0.4)\n",
      "Installing collected packages: ratelim, geocoder\n",
      "Successfully installed geocoder-1.38.1 ratelim-0.1.6\n"
     ]
    }
   ],
   "source": [
    "!pip install geocoder\n",
    "import geocoder"
   ]
  },
  {
   "cell_type": "markdown",
   "metadata": {},
   "source": [
    "## Getting latitude and longitude of each postalcode and adding it to a list"
   ]
  },
  {
   "cell_type": "code",
   "execution_count": 55,
   "metadata": {},
   "outputs": [
    {
     "data": {
      "text/plain": [
       "[[43.811390000000074, -79.19661999999994],\n",
       " [43.78574000000003, -79.15874999999994],\n",
       " [43.765750000000025, -79.17469999999997],\n",
       " [43.76812000000007, -79.21760999999998],\n",
       " [43.76944000000003, -79.23891999999995],\n",
       " [43.74446000000006, -79.23116999999996],\n",
       " [43.725820000000056, -79.26460999999995],\n",
       " [43.71289000000007, -79.28505999999999],\n",
       " [43.72360000000003, -79.23495999999994],\n",
       " [43.695100000000025, -79.26465999999994],\n",
       " [43.75998000000004, -79.26939999999996],\n",
       " [43.75075000000004, -79.30053999999996],\n",
       " [43.794520000000034, -79.26707999999996],\n",
       " [43.784910000000025, -79.29721999999998],\n",
       " [43.817810000000065, -79.28043999999994],\n",
       " [43.80079000000006, -79.32161999999994],\n",
       " [43.83412000000004, -79.21667999999994],\n",
       " [43.80225000000007, -79.35557999999997],\n",
       " [43.780970000000025, -79.34780999999998],\n",
       " [43.781120000000044, -79.38059999999996],\n",
       " [43.756980000000055, -79.38059999999996],\n",
       " [43.79182000000003, -79.41371999999996],\n",
       " [43.76774000000006, -79.40727999999996],\n",
       " [43.747780000000034, -79.40032999999994],\n",
       " [43.77989000000008, -79.44677999999999],\n",
       " [43.75245000000007, -79.32990999999998],\n",
       " [43.74923000000007, -79.36185999999998],\n",
       " [43.72168000000005, -79.34351999999996],\n",
       " [43.75788000000006, -79.44846999999999],\n",
       " [43.76476000000008, -79.48797999999994],\n",
       " [43.73384000000004, -79.46827999999994],\n",
       " [43.720710000000054, -79.51700999999997],\n",
       " [43.73224000000005, -79.50177999999994],\n",
       " [43.75478000000004, -79.51958999999994],\n",
       " [43.73057000000006, -79.31305999999995],\n",
       " [43.70718000000005, -79.31191999999999],\n",
       " [43.68970000000007, -79.30681999999996],\n",
       " [43.67709000000008, -79.29546999999997],\n",
       " [43.709020000000066, -79.36348999999996],\n",
       " [43.70142000000004, -79.34904999999998],\n",
       " [43.68811000000005, -79.33417999999995],\n",
       " [43.68375000000003, -79.35511999999994],\n",
       " [43.667970000000025, -79.31466999999998],\n",
       " [43.66213000000005, -79.33496999999994],\n",
       " [43.72843000000006, -79.38712999999996],\n",
       " [43.71276000000006, -79.38850999999994],\n",
       " [43.71458000000007, -79.40667999999994],\n",
       " [43.703400000000045, -79.38658999999996],\n",
       " [43.690480000000036, -79.38317999999998],\n",
       " [43.68568000000005, -79.40236999999996],\n",
       " [43.68190000000004, -79.37828999999994],\n",
       " [43.667880000000025, -79.36648999999994],\n",
       " [43.66659000000004, -79.38132999999993],\n",
       " [43.65512000000007, -79.36263999999994],\n",
       " [43.65739000000008, -79.37803999999994],\n",
       " [43.65215000000006, -79.37586999999996],\n",
       " [43.64536000000004, -79.37305999999995],\n",
       " [43.65609000000006, -79.38492999999994],\n",
       " [43.64970000000005, -79.38257999999996],\n",
       " [43.64285000000007, -79.38075999999995],\n",
       " [43.64710000000008, -79.38152999999994],\n",
       " [43.64840000000004, -79.37913999999995],\n",
       " [43.73545000000007, -79.41915999999998],\n",
       " [43.71208000000007, -79.41847999999999],\n",
       " [43.69479000000007, -79.41439999999994],\n",
       " [43.674840000000074, -79.40451999999993],\n",
       " [43.663110000000074, -79.40179999999998],\n",
       " [43.65351000000004, -79.39721999999995],\n",
       " [43.640820000000076, -79.39817999999997],\n",
       " [43.648690000000045, -79.38543999999996],\n",
       " [43.64828000000006, -79.38145999999995],\n",
       " [43.72327000000007, -79.45041999999995],\n",
       " [43.70687000000004, -79.44811999999996],\n",
       " [43.69211000000007, -79.43035999999995],\n",
       " [43.68784000000005, -79.45045999999996],\n",
       " [43.668690000000026, -79.42070999999999],\n",
       " [43.665050000000065, -79.43890999999996],\n",
       " [43.64848000000006, -79.41773999999998],\n",
       " [43.639410000000055, -79.42675999999994],\n",
       " [43.71381000000008, -79.48873999999995],\n",
       " [43.695170000000076, -79.48396999999994],\n",
       " [43.67646000000008, -79.48271999999997],\n",
       " [43.659730000000025, -79.46280999999993],\n",
       " [43.64777000000004, -79.44988999999998],\n",
       " [43.649820000000034, -79.47547999999995],\n",
       " [43.66253000000006, -79.39187999999996],\n",
       " [43.648690000000045, -79.38543999999996],\n",
       " [43.648690000000045, -79.38543999999996],\n",
       " [43.60987000000006, -79.49808999999993],\n",
       " [43.601240000000075, -79.53878999999995],\n",
       " [43.65319000000005, -79.51112999999998],\n",
       " [43.632780000000025, -79.48944999999998],\n",
       " [43.62513000000007, -79.52680999999995],\n",
       " [43.662630000000036, -79.52830999999998],\n",
       " [43.65034000000003, -79.55361999999997],\n",
       " [43.64857000000006, -79.57824999999997],\n",
       " [43.75948000000005, -79.55706999999995],\n",
       " [43.733670000000075, -79.53768999999994],\n",
       " [43.705070000000035, -79.51803999999998],\n",
       " [43.696300000000065, -79.52925999999997],\n",
       " [43.68681000000004, -79.55727999999993],\n",
       " [43.744530000000054, -79.58623999999998],\n",
       " [43.71174000000008, -79.57940999999994]]"
      ]
     },
     "execution_count": 55,
     "metadata": {},
     "output_type": "execute_result"
    }
   ],
   "source": [
    "def get_lat_long(postal_code):\n",
    "    lati_long_coords = None\n",
    "    while(lati_long_coords is None):\n",
    "        g = geocoder.arcgis('{}, Toronto, Ontario'.format(postal_code))\n",
    "        lati_long_coords = g.latlng\n",
    "    return lati_long_coords\n",
    "    \n",
    "coords = [ get_lat_long(postal_code) for postal_code in toronto_df['Postalcode'].tolist() ]\n",
    "coords"
   ]
  },
  {
   "cell_type": "markdown",
   "metadata": {},
   "source": [
    "## Adding latitiude and longitude columns to the dataframe"
   ]
  },
  {
   "cell_type": "code",
   "execution_count": 59,
   "metadata": {},
   "outputs": [
    {
     "data": {
      "text/html": [
       "<div>\n",
       "<style scoped>\n",
       "    .dataframe tbody tr th:only-of-type {\n",
       "        vertical-align: middle;\n",
       "    }\n",
       "\n",
       "    .dataframe tbody tr th {\n",
       "        vertical-align: top;\n",
       "    }\n",
       "\n",
       "    .dataframe thead th {\n",
       "        text-align: right;\n",
       "    }\n",
       "</style>\n",
       "<table border=\"1\" class=\"dataframe\">\n",
       "  <thead>\n",
       "    <tr style=\"text-align: right;\">\n",
       "      <th></th>\n",
       "      <th>Postalcode</th>\n",
       "      <th>Borough</th>\n",
       "      <th>Neighborhood</th>\n",
       "      <th>Latitude</th>\n",
       "      <th>Longitude</th>\n",
       "    </tr>\n",
       "  </thead>\n",
       "  <tbody>\n",
       "    <tr>\n",
       "      <th>0</th>\n",
       "      <td>M1B</td>\n",
       "      <td>Scarborough</td>\n",
       "      <td>Malvern, Rouge</td>\n",
       "      <td>43.81139</td>\n",
       "      <td>-79.19662</td>\n",
       "    </tr>\n",
       "    <tr>\n",
       "      <th>1</th>\n",
       "      <td>M1C</td>\n",
       "      <td>Scarborough</td>\n",
       "      <td>Rouge Hill, Port Union, Highland Creek</td>\n",
       "      <td>43.78574</td>\n",
       "      <td>-79.15875</td>\n",
       "    </tr>\n",
       "    <tr>\n",
       "      <th>2</th>\n",
       "      <td>M1E</td>\n",
       "      <td>Scarborough</td>\n",
       "      <td>Guildwood, Morningside, West Hill</td>\n",
       "      <td>43.76575</td>\n",
       "      <td>-79.17470</td>\n",
       "    </tr>\n",
       "    <tr>\n",
       "      <th>3</th>\n",
       "      <td>M1G</td>\n",
       "      <td>Scarborough</td>\n",
       "      <td>Woburn</td>\n",
       "      <td>43.76812</td>\n",
       "      <td>-79.21761</td>\n",
       "    </tr>\n",
       "    <tr>\n",
       "      <th>4</th>\n",
       "      <td>M1H</td>\n",
       "      <td>Scarborough</td>\n",
       "      <td>Cedarbrae</td>\n",
       "      <td>43.76944</td>\n",
       "      <td>-79.23892</td>\n",
       "    </tr>\n",
       "  </tbody>\n",
       "</table>\n",
       "</div>"
      ],
      "text/plain": [
       "  Postalcode      Borough                            Neighborhood  Latitude  \\\n",
       "0        M1B  Scarborough                          Malvern, Rouge  43.81139   \n",
       "1        M1C  Scarborough  Rouge Hill, Port Union, Highland Creek  43.78574   \n",
       "2        M1E  Scarborough       Guildwood, Morningside, West Hill  43.76575   \n",
       "3        M1G  Scarborough                                  Woburn  43.76812   \n",
       "4        M1H  Scarborough                               Cedarbrae  43.76944   \n",
       "\n",
       "   Longitude  \n",
       "0  -79.19662  \n",
       "1  -79.15875  \n",
       "2  -79.17470  \n",
       "3  -79.21761  \n",
       "4  -79.23892  "
      ]
     },
     "execution_count": 59,
     "metadata": {},
     "output_type": "execute_result"
    }
   ],
   "source": [
    "coords_df = pd.DataFrame(coords, columns=['Latitude', 'Longitude'])\n",
    "toronto_df['Latitude'] = coords_df['Latitude']\n",
    "toronto_df['Longitude'] = coords_df['Longitude']\n",
    "toronto_df.head()"
   ]
  },
  {
   "cell_type": "markdown",
   "metadata": {},
   "source": [
    "# PART C"
   ]
  },
  {
   "cell_type": "code",
   "execution_count": 68,
   "metadata": {},
   "outputs": [
    {
     "name": "stdout",
     "output_type": "stream",
     "text": [
      "Requirement already satisfied: folium in c:\\users\\ajay483\\anaconda3\\lib\\site-packages (0.11.0)\n",
      "Requirement already satisfied: jinja2>=2.9 in c:\\users\\ajay483\\anaconda3\\lib\\site-packages (from folium) (2.11.2)\n",
      "Requirement already satisfied: branca>=0.3.0 in c:\\users\\ajay483\\anaconda3\\lib\\site-packages (from folium) (0.4.1)\n",
      "Requirement already satisfied: numpy in c:\\users\\ajay483\\anaconda3\\lib\\site-packages (from folium) (1.19.2)\n",
      "Requirement already satisfied: requests in c:\\users\\ajay483\\anaconda3\\lib\\site-packages (from folium) (2.25.0)\n",
      "Requirement already satisfied: jinja2>=2.9 in c:\\users\\ajay483\\anaconda3\\lib\\site-packages (from folium) (2.11.2)\n",
      "Requirement already satisfied: MarkupSafe>=0.23 in c:\\users\\ajay483\\anaconda3\\lib\\site-packages (from jinja2>=2.9->folium) (1.1.1)\n",
      "Requirement already satisfied: chardet<4,>=3.0.2 in c:\\users\\ajay483\\anaconda3\\lib\\site-packages (from requests->folium) (3.0.4)\n",
      "Requirement already satisfied: certifi>=2017.4.17 in c:\\users\\ajay483\\anaconda3\\lib\\site-packages (from requests->folium) (2020.12.5)\n",
      "Requirement already satisfied: urllib3<1.27,>=1.21.1 in c:\\users\\ajay483\\anaconda3\\lib\\site-packages (from requests->folium) (1.25.11)\n",
      "Requirement already satisfied: idna<3,>=2.5 in c:\\users\\ajay483\\anaconda3\\lib\\site-packages (from requests->folium) (2.10)\n",
      "Collecting geopy\n",
      "  Downloading geopy-2.0.0-py3-none-any.whl (111 kB)\n",
      "Collecting geographiclib<2,>=1.49\n",
      "  Downloading geographiclib-1.50-py3-none-any.whl (38 kB)\n",
      "Installing collected packages: geographiclib, geopy\n",
      "Successfully installed geographiclib-1.50 geopy-2.0.0\n"
     ]
    }
   ],
   "source": [
    "!pip install folium\n",
    "!pip install geopy\n",
    "import folium\n",
    "from geopy.geocoders import Nominatim "
   ]
  },
  {
   "cell_type": "code",
   "execution_count": 71,
   "metadata": {},
   "outputs": [
    {
     "name": "stdout",
     "output_type": "stream",
     "text": [
      "The geograpical coordinate of Toronto Canada are 43.6534817, -79.3839347.\n"
     ]
    }
   ],
   "source": [
    "address = 'Toronto, Ontario Canada'\n",
    "geolocator = Nominatim(user_agent=\"myapplication\")\n",
    "location = geolocator.geocode(address)\n",
    "latitude = location.latitude\n",
    "longitude = location.longitude\n",
    "print('The geograpical coordinate of Toronto Canada are {}, {}.'.format(latitude, longitude))"
   ]
  },
  {
   "cell_type": "code",
   "execution_count": 72,
   "metadata": {},
   "outputs": [
    {
     "data": {
      "text/html": [
       "<div style=\"width:100%;\"><div style=\"position:relative;width:100%;height:0;padding-bottom:60%;\"><span style=\"color:#565656\">Make this Notebook Trusted to load map: File -> Trust Notebook</span><iframe src=\"about:blank\" style=\"position:absolute;width:100%;height:100%;left:0;top:0;border:none !important;\" data-html=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 onload=\"this.contentDocument.open();this.contentDocument.write(atob(this.getAttribute('data-html')));this.contentDocument.close();\" allowfullscreen webkitallowfullscreen mozallowfullscreen></iframe></div></div>"
      ],
      "text/plain": [
       "<folium.folium.Map at 0x1f4897d1490>"
      ]
     },
     "execution_count": 72,
     "metadata": {},
     "output_type": "execute_result"
    }
   ],
   "source": [
    "map_toronto = folium.Map(location=[latitude, longitude], zoom_start=11)\n",
    "for lat, lng, borough, neighborhood in zip(toronto_df['Latitude'], toronto_df['Longitude'], toronto_df['Borough'], toronto_df['Neighborhood']):\n",
    "    label = '{}, {}'.format(neighborhood, borough)\n",
    "    label = folium.Popup(label, parse_html=True)\n",
    "    folium.CircleMarker(\n",
    "        [lat, lng],\n",
    "        radius=4,\n",
    "        popup=label,\n",
    "        color='blue',\n",
    "        fill=True,\n",
    "        fill_color='#87cefa',\n",
    "        fill_opacity=0.5,\n",
    "        parse_html=False).add_to(map_toronto)\n",
    "map_toronto"
   ]
  },
  {
   "cell_type": "code",
   "execution_count": 66,
   "metadata": {},
   "outputs": [
    {
     "name": "stdout",
     "output_type": "stream",
     "text": [
      "(39, 5)\n"
     ]
    },
    {
     "data": {
      "text/html": [
       "<div>\n",
       "<style scoped>\n",
       "    .dataframe tbody tr th:only-of-type {\n",
       "        vertical-align: middle;\n",
       "    }\n",
       "\n",
       "    .dataframe tbody tr th {\n",
       "        vertical-align: top;\n",
       "    }\n",
       "\n",
       "    .dataframe thead th {\n",
       "        text-align: right;\n",
       "    }\n",
       "</style>\n",
       "<table border=\"1\" class=\"dataframe\">\n",
       "  <thead>\n",
       "    <tr style=\"text-align: right;\">\n",
       "      <th></th>\n",
       "      <th>Postalcode</th>\n",
       "      <th>Borough</th>\n",
       "      <th>Neighborhood</th>\n",
       "      <th>Latitude</th>\n",
       "      <th>Longitude</th>\n",
       "    </tr>\n",
       "  </thead>\n",
       "  <tbody>\n",
       "    <tr>\n",
       "      <th>0</th>\n",
       "      <td>M4E</td>\n",
       "      <td>East Toronto</td>\n",
       "      <td>The Beaches</td>\n",
       "      <td>43.67709</td>\n",
       "      <td>-79.29547</td>\n",
       "    </tr>\n",
       "    <tr>\n",
       "      <th>1</th>\n",
       "      <td>M4K</td>\n",
       "      <td>East Toronto</td>\n",
       "      <td>The Danforth West, Riverdale</td>\n",
       "      <td>43.68375</td>\n",
       "      <td>-79.35512</td>\n",
       "    </tr>\n",
       "    <tr>\n",
       "      <th>2</th>\n",
       "      <td>M4L</td>\n",
       "      <td>East Toronto</td>\n",
       "      <td>India Bazaar, The Beaches West</td>\n",
       "      <td>43.66797</td>\n",
       "      <td>-79.31467</td>\n",
       "    </tr>\n",
       "    <tr>\n",
       "      <th>3</th>\n",
       "      <td>M4M</td>\n",
       "      <td>East Toronto</td>\n",
       "      <td>Studio District</td>\n",
       "      <td>43.66213</td>\n",
       "      <td>-79.33497</td>\n",
       "    </tr>\n",
       "    <tr>\n",
       "      <th>4</th>\n",
       "      <td>M4N</td>\n",
       "      <td>Central Toronto</td>\n",
       "      <td>Lawrence Park</td>\n",
       "      <td>43.72843</td>\n",
       "      <td>-79.38713</td>\n",
       "    </tr>\n",
       "  </tbody>\n",
       "</table>\n",
       "</div>"
      ],
      "text/plain": [
       "  Postalcode          Borough                    Neighborhood  Latitude  \\\n",
       "0        M4E     East Toronto                     The Beaches  43.67709   \n",
       "1        M4K     East Toronto    The Danforth West, Riverdale  43.68375   \n",
       "2        M4L     East Toronto  India Bazaar, The Beaches West  43.66797   \n",
       "3        M4M     East Toronto                 Studio District  43.66213   \n",
       "4        M4N  Central Toronto                   Lawrence Park  43.72843   \n",
       "\n",
       "   Longitude  \n",
       "0  -79.29547  \n",
       "1  -79.35512  \n",
       "2  -79.31467  \n",
       "3  -79.33497  \n",
       "4  -79.38713  "
      ]
     },
     "execution_count": 66,
     "metadata": {},
     "output_type": "execute_result"
    }
   ],
   "source": [
    "toronto_data = toronto_df[toronto_df['Borough'].str.contains(\"Toronto\")].reset_index(drop=True)\n",
    "print(toronto_data.shape)\n",
    "toronto_data.head()"
   ]
  }
 ],
 "metadata": {
  "kernelspec": {
   "display_name": "Python 3",
   "language": "python",
   "name": "python3"
  },
  "language_info": {
   "codemirror_mode": {
    "name": "ipython",
    "version": 3
   },
   "file_extension": ".py",
   "mimetype": "text/x-python",
   "name": "python",
   "nbconvert_exporter": "python",
   "pygments_lexer": "ipython3",
   "version": "3.8.5"
  }
 },
 "nbformat": 4,
 "nbformat_minor": 4
}
